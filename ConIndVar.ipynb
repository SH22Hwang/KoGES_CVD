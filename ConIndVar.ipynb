{
 "cells": [
  {
   "cell_type": "markdown",
   "metadata": {},
   "source": [
    "# ConIndVar\n",
    "\n",
    "- Concat Independent Variable\n",
    "- 독립변수 합치기\n",
    "\n",
    "- 대상 변수: 사용할 변수 목록.xlsx 참고\n",
    "\n",
    "\n",
    "해야할 일\n",
    "\n",
    "1. 결측값 대치\n",
    "    1. 안 하기! XGBoost는 결측값에 강건하다\n",
    "    2. missingpy 라이브러리의 missforest 사용\n",
    "    3. xgbimputer 라이브러리 쓰기!\n",
    "        - 이 방법 쓰려면 좀 복잡할듯\n",
    "    4. 원래 하던대로 하기(최빈값, 평균값 등등)\n",
    "\n",
    "2. 이상치 제거...?\n",
    "    1. 한다\n",
    "    2. 안 한다\n",
    "\n",
    "3. 데이터 가공하기. 고혈압 여부 등\n",
    "\n",
    "\n",
    "\n"
   ]
  },
  {
   "cell_type": "code",
   "execution_count": 36,
   "metadata": {},
   "outputs": [],
   "source": [
    "import numpy as np\n",
    "import pandas as pd\n",
    "import matplotlib.pyplot as plt\n",
    "from matplotlib import rc\n",
    "\n",
    "# 기본 글꼴을 D2Coding ligature으로 변경\n",
    "rc(\"font\", family=\"D2Coding ligature\")"
   ]
  },
  {
   "cell_type": "code",
   "execution_count": 37,
   "metadata": {},
   "outputs": [
    {
     "name": "stdout",
     "output_type": "stream",
     "text": [
      "['D2Coding ligature']\n"
     ]
    }
   ],
   "source": [
    "print(plt.rcParams['font.family'])"
   ]
  },
  {
   "cell_type": "markdown",
   "metadata": {},
   "source": [
    "- 원본 데이터 불러오기\n",
    "\n",
    "- GH_9622 데이터셋 기준으로 인덱스 조정해야함."
   ]
  },
  {
   "cell_type": "code",
   "execution_count": 2,
   "metadata": {},
   "outputs": [],
   "source": [
    "AS1_01_EXAMINEE = pd.read_csv(\"./Dataset/AS1_01_EXAMINEE.csv\", index_col=0, encoding='utf-8', low_memory=False)\n",
    "AS1_02_GEN = pd.read_csv(\"./Dataset/AS1_02_GEN.csv\", index_col=0, encoding='utf-8', low_memory=False)\n",
    "AS1_03_DRSM = pd.read_csv(\"./Dataset/AS1_03_DRSM.csv\", index_col=0, encoding='utf-8', low_memory=False)\n",
    "AS1_04_ACTIVE = pd.read_csv(\"./Dataset/AS1_04_ACTIVE.csv\", index_col=0, encoding='utf-8', low_memory=False)\n",
    "AS1_05_MEDIC = pd.read_csv(\"./Dataset/AS1_05_MEDIC.csv\", index_col=0, encoding='utf-8', low_memory=False)\n",
    "AS1_06_DISEASE = pd.read_csv(\"./Dataset/AS1_06_DISEASE.csv\", index_col=0, encoding='utf-8', low_memory=False)\n",
    "AS1_07_TREAT = pd.read_csv(\"./Dataset/AS1_07_TREAT.csv\", index_col=0, encoding='utf-8', low_memory=False)\n",
    "AS1_08_DRUG = pd.read_csv(\"./Dataset/AS1_08_DRUG.csv\", index_col=0, encoding='utf-8', low_memory=False)\n",
    "AS1_13_SLEEP = pd.read_csv(\"./Dataset/AS1_13_SLEEP.csv\", index_col=0, encoding='utf-8', low_memory=False)\n",
    "AS1_16_DIET = pd.read_csv(\"./Dataset/AS1_16_DIET.csv\", index_col=0, encoding='utf-8', low_memory=False)\n",
    "AS1_17_FFQWEIGHT = pd.read_csv(\"./Dataset/AS1_17_FFQWEIGHT.csv\", index_col=0, encoding='utf-8', low_memory=False)\n",
    "AS1_18_BIOCHEM = pd.read_csv(\"./Dataset/AS1_18_BIOCHEM.csv\", index_col=0, encoding='utf-8', low_memory=False)\n",
    "AS1_19_ANTHRO = pd.read_csv(\"./Dataset/AS1_19_ANTHRO.csv\", index_col=0, encoding='utf-8', low_memory=False)\n",
    "GH = pd.read_csv(\"./Dataset/GH_9622.csv\", index_col=0, encoding='utf-8', low_memory=False) # 경훈이가 가공해준 식이패턴 데이터             \n"
   ]
  },
  {
   "cell_type": "markdown",
   "metadata": {},
   "source": [
    "## Data Engineering"
   ]
  },
  {
   "cell_type": "markdown",
   "metadata": {},
   "source": [
    "### Imputation\n",
    "\n",
    "해야할 일\n",
    "\n",
    "- 77777 -> 0 또는 특정 값\n",
    "- 99999 -> NaN"
   ]
  },
  {
   "cell_type": "markdown",
   "metadata": {},
   "source": [
    "### Data 가공하기\n",
    "\n",
    "- 고혈압여부: HAS_HYPERTENSION\n",
    "- 당뇨여부: HAS_DIABETES\n",
    "- 고지혈증: HAS_HYPERLIPIDEMI\n",
    "- LDL: LDL\n",
    "- H0MA_IR: H0MA_IR\n",
    "- 허리둘레: WAIST_AVG\n",
    "- BMI: BMI\n"
   ]
  },
  {
   "cell_type": "code",
   "execution_count": 3,
   "metadata": {},
   "outputs": [
    {
     "data": {
      "text/html": [
       "<div>\n",
       "<style scoped>\n",
       "    .dataframe tbody tr th:only-of-type {\n",
       "        vertical-align: middle;\n",
       "    }\n",
       "\n",
       "    .dataframe tbody tr th {\n",
       "        vertical-align: top;\n",
       "    }\n",
       "\n",
       "    .dataframe thead th {\n",
       "        text-align: right;\n",
       "    }\n",
       "</style>\n",
       "<table border=\"1\" class=\"dataframe\">\n",
       "  <thead>\n",
       "    <tr style=\"text-align: right;\">\n",
       "      <th></th>\n",
       "    </tr>\n",
       "    <tr>\n",
       "      <th>DIST_ID</th>\n",
       "    </tr>\n",
       "  </thead>\n",
       "  <tbody>\n",
       "    <tr>\n",
       "      <th>NIH23B1298125</th>\n",
       "    </tr>\n",
       "    <tr>\n",
       "      <th>NIH23B1159376</th>\n",
       "    </tr>\n",
       "    <tr>\n",
       "      <th>NIH23B1785393</th>\n",
       "    </tr>\n",
       "    <tr>\n",
       "      <th>NIH23B1463054</th>\n",
       "    </tr>\n",
       "    <tr>\n",
       "      <th>NIH23B1751168</th>\n",
       "    </tr>\n",
       "  </tbody>\n",
       "</table>\n",
       "</div>"
      ],
      "text/plain": [
       "Empty DataFrame\n",
       "Columns: []\n",
       "Index: [NIH23B1298125, NIH23B1159376, NIH23B1785393, NIH23B1463054, NIH23B1751168]"
      ]
     },
     "execution_count": 3,
     "metadata": {},
     "output_type": "execute_result"
    }
   ],
   "source": [
    "processed_df = pd.DataFrame(index=AS1_01_EXAMINEE.index)\n",
    "processed_df.head()"
   ]
  },
  {
   "cell_type": "markdown",
   "metadata": {},
   "source": [
    "#### 고혈압여부: HAS_HYPERTENSION\n",
    "> pdht == 2 or drughtcu == 2 or 3회평균_sys >= 140 or 3회평균_dia >=90"
   ]
  },
  {
   "cell_type": "code",
   "execution_count": 4,
   "metadata": {},
   "outputs": [
    {
     "name": "stdout",
     "output_type": "stream",
     "text": [
      "<class 'pandas.core.frame.DataFrame'>\n",
      "Index: 10030 entries, NIH23B1298125 to NIH23B1160138\n",
      "Data columns (total 4 columns):\n",
      " #   Column        Non-Null Count  Dtype  \n",
      "---  ------        --------------  -----  \n",
      " 0   AS1_PDHT      10030 non-null  int64  \n",
      " 1   AS1_DRUGHTCU  10030 non-null  int64  \n",
      " 2   AS1_AVG_SYS   10030 non-null  float64\n",
      " 3   AS1_AVG_DIA   10030 non-null  float64\n",
      "dtypes: float64(2), int64(2)\n",
      "memory usage: 391.8+ KB\n"
     ]
    }
   ],
   "source": [
    "pdht = AS1_06_DISEASE[[\"AS1_PDHT\"]]\n",
    "drughtcu = AS1_08_DRUG[['AS1_DRUGHTCU']]\n",
    "sys = AS1_19_ANTHRO[['AS1_BPLIE1S', 'AS1_BPLIE2S', 'AS1_BPLIE3S']].mean(axis=1)\n",
    "dia = AS1_19_ANTHRO[['AS1_BPLIE1D', 'AS1_BPLIE2D', 'AS1_BPLIE3D']].mean(axis=1)\n",
    "\n",
    "df = pd.concat([pdht, drughtcu], axis=1)\n",
    "df[\"AS1_AVG_SYS\"] = sys\n",
    "df[\"AS1_AVG_DIA\"] = dia\n",
    "df.info()"
   ]
  },
  {
   "cell_type": "code",
   "execution_count": 5,
   "metadata": {},
   "outputs": [
    {
     "data": {
      "text/plain": [
       "AS1_DRUGHTCU\n",
       "77777    8256\n",
       "2        1086\n",
       "99999     619\n",
       "1          69\n",
       "Name: count, dtype: int64"
      ]
     },
     "execution_count": 5,
     "metadata": {},
     "output_type": "execute_result"
    }
   ],
   "source": [
    "df[\"AS1_DRUGHTCU\"].value_counts()"
   ]
  },
  {
   "cell_type": "code",
   "execution_count": 6,
   "metadata": {},
   "outputs": [],
   "source": [
    "conditions = (\n",
    "    (df['AS1_PDHT'] == 2) | \n",
    "    (df['AS1_DRUGHTCU'] == 2) | \n",
    "    (df['AS1_AVG_SYS'] >= 140) | \n",
    "    (df['AS1_AVG_DIA'] >= 90)\n",
    ")\n",
    "\n",
    "# df['HAS_HYPERTENSION'] = np.where(conditions, 1, 0)\n",
    "processed_df['HAS_HYPERTENSION'] = conditions.astype(int)"
   ]
  },
  {
   "cell_type": "code",
   "execution_count": 7,
   "metadata": {},
   "outputs": [
    {
     "data": {
      "text/plain": [
       "HAS_HYPERTENSION\n",
       "0    7429\n",
       "1    2601\n",
       "Name: count, dtype: int64"
      ]
     },
     "execution_count": 7,
     "metadata": {},
     "output_type": "execute_result"
    }
   ],
   "source": [
    "processed_df['HAS_HYPERTENSION'].value_counts()"
   ]
  },
  {
   "cell_type": "markdown",
   "metadata": {},
   "source": [
    "#### 당뇨여부\n",
    "\n",
    "> pddm == 2 or druginscu == 2 or glu0 >= 126 or hba1c >= 6.5 or glu120 >= 200"
   ]
  },
  {
   "cell_type": "code",
   "execution_count": 8,
   "metadata": {},
   "outputs": [],
   "source": [
    "pddm = AS1_06_DISEASE[[\"AS1_PDDM\"]]\n",
    "druginscu = AS1_08_DRUG[['AS1_DRUGINSCU']]\n",
    "glu0 = AS1_18_BIOCHEM[['AS1_GLU0_TR']]\n",
    "glu120 = AS1_18_BIOCHEM[['AS1_GLU120_TR']]\n",
    "hba1c = AS1_18_BIOCHEM[['AS1_HBA1C']]\n",
    "\n",
    "df = pd.concat([pddm, druginscu, glu0, glu120, hba1c], axis=1)"
   ]
  },
  {
   "cell_type": "code",
   "execution_count": 9,
   "metadata": {},
   "outputs": [],
   "source": [
    "conditions = (\n",
    "    (df['AS1_PDDM'] == 2) | \n",
    "    (df['AS1_DRUGINSCU'] == 2) | \n",
    "    (df['AS1_GLU0_TR'] >= 126) | \n",
    "    (df['AS1_GLU120_TR'] >= 200) |\n",
    "    (df['AS1_HBA1C'] >= 6.5)\n",
    ")\n",
    "\n",
    "processed_df['HAS_DIABETES'] = conditions.astype(int)"
   ]
  },
  {
   "cell_type": "code",
   "execution_count": 10,
   "metadata": {},
   "outputs": [
    {
     "data": {
      "text/plain": [
       "HAS_DIABETES\n",
       "0    8524\n",
       "1    1506\n",
       "Name: count, dtype: int64"
      ]
     },
     "execution_count": 10,
     "metadata": {},
     "output_type": "execute_result"
    }
   ],
   "source": [
    "processed_df['HAS_DIABETES'].value_counts()"
   ]
  },
  {
   "cell_type": "markdown",
   "metadata": {},
   "source": [
    "#### 고지혈증\n",
    "> tchl >= 240 or LDL >= 160 or TG >= 200 or HDL < 40\n",
    "\n",
    "- 현대인은 모두 고지혈증인가? 어떻게 2가 없지"
   ]
  },
  {
   "cell_type": "code",
   "execution_count": 11,
   "metadata": {},
   "outputs": [],
   "source": [
    "pdlp = AS1_06_DISEASE[[\"AS1_PDLP\"]]\n",
    "drugslcu = AS1_08_DRUG[['AS1_DRUGSLCU']]\n",
    "tchl = AS1_18_BIOCHEM[['AS1_TCHL_TR']]\n",
    "hdl = AS1_18_BIOCHEM[['AS1_HDL_TR']]\n",
    "tg = AS1_18_BIOCHEM[['AS1_TG_TR']]\n",
    "\n",
    "df = pd.concat([pdlp, drugslcu, tchl, hdl, tg], axis=1)\n",
    "df['AS1_LDL_TR'] = df['AS1_TCHL_TR'] - df['AS1_HDL_TR'] - df['AS1_TG_TR'] / 5"
   ]
  },
  {
   "cell_type": "code",
   "execution_count": 12,
   "metadata": {},
   "outputs": [
    {
     "data": {
      "text/plain": [
       "DIST_ID\n",
       "NIH23B1298125    39.6\n",
       "NIH23B1159376    62.0\n",
       "NIH23B1785393    66.8\n",
       "NIH23B1463054    21.0\n",
       "NIH23B1751168    19.0\n",
       "                 ... \n",
       "NIH23B1761277    22.2\n",
       "NIH23B1751514    22.8\n",
       "NIH23B1102799    46.4\n",
       "NIH23B1964351    39.8\n",
       "NIH23B1160138    38.4\n",
       "Name: AS1_TG_TR, Length: 10030, dtype: float64"
      ]
     },
     "execution_count": 12,
     "metadata": {},
     "output_type": "execute_result"
    }
   ],
   "source": [
    "df['AS1_TG_TR']/5"
   ]
  },
  {
   "cell_type": "code",
   "execution_count": 13,
   "metadata": {},
   "outputs": [
    {
     "data": {
      "text/html": [
       "<div>\n",
       "<style scoped>\n",
       "    .dataframe tbody tr th:only-of-type {\n",
       "        vertical-align: middle;\n",
       "    }\n",
       "\n",
       "    .dataframe tbody tr th {\n",
       "        vertical-align: top;\n",
       "    }\n",
       "\n",
       "    .dataframe thead th {\n",
       "        text-align: right;\n",
       "    }\n",
       "</style>\n",
       "<table border=\"1\" class=\"dataframe\">\n",
       "  <thead>\n",
       "    <tr style=\"text-align: right;\">\n",
       "      <th></th>\n",
       "      <th>AS1_PDLP</th>\n",
       "      <th>AS1_DRUGSLCU</th>\n",
       "      <th>AS1_TCHL_TR</th>\n",
       "      <th>AS1_HDL_TR</th>\n",
       "      <th>AS1_TG_TR</th>\n",
       "      <th>AS1_LDL_TR</th>\n",
       "    </tr>\n",
       "    <tr>\n",
       "      <th>DIST_ID</th>\n",
       "      <th></th>\n",
       "      <th></th>\n",
       "      <th></th>\n",
       "      <th></th>\n",
       "      <th></th>\n",
       "      <th></th>\n",
       "    </tr>\n",
       "  </thead>\n",
       "  <tbody>\n",
       "    <tr>\n",
       "      <th>NIH23B1298125</th>\n",
       "      <td>1</td>\n",
       "      <td>77777</td>\n",
       "      <td>159</td>\n",
       "      <td>36</td>\n",
       "      <td>198</td>\n",
       "      <td>83.4</td>\n",
       "    </tr>\n",
       "    <tr>\n",
       "      <th>NIH23B1159376</th>\n",
       "      <td>1</td>\n",
       "      <td>99999</td>\n",
       "      <td>156</td>\n",
       "      <td>30</td>\n",
       "      <td>310</td>\n",
       "      <td>64.0</td>\n",
       "    </tr>\n",
       "    <tr>\n",
       "      <th>NIH23B1785393</th>\n",
       "      <td>1</td>\n",
       "      <td>77777</td>\n",
       "      <td>161</td>\n",
       "      <td>44</td>\n",
       "      <td>334</td>\n",
       "      <td>50.2</td>\n",
       "    </tr>\n",
       "    <tr>\n",
       "      <th>NIH23B1463054</th>\n",
       "      <td>1</td>\n",
       "      <td>77777</td>\n",
       "      <td>161</td>\n",
       "      <td>40</td>\n",
       "      <td>105</td>\n",
       "      <td>100.0</td>\n",
       "    </tr>\n",
       "    <tr>\n",
       "      <th>NIH23B1751168</th>\n",
       "      <td>1</td>\n",
       "      <td>99999</td>\n",
       "      <td>151</td>\n",
       "      <td>44</td>\n",
       "      <td>95</td>\n",
       "      <td>88.0</td>\n",
       "    </tr>\n",
       "  </tbody>\n",
       "</table>\n",
       "</div>"
      ],
      "text/plain": [
       "               AS1_PDLP  AS1_DRUGSLCU  AS1_TCHL_TR  AS1_HDL_TR  AS1_TG_TR  \\\n",
       "DIST_ID                                                                     \n",
       "NIH23B1298125         1         77777          159          36        198   \n",
       "NIH23B1159376         1         99999          156          30        310   \n",
       "NIH23B1785393         1         77777          161          44        334   \n",
       "NIH23B1463054         1         77777          161          40        105   \n",
       "NIH23B1751168         1         99999          151          44         95   \n",
       "\n",
       "               AS1_LDL_TR  \n",
       "DIST_ID                    \n",
       "NIH23B1298125        83.4  \n",
       "NIH23B1159376        64.0  \n",
       "NIH23B1785393        50.2  \n",
       "NIH23B1463054       100.0  \n",
       "NIH23B1751168        88.0  "
      ]
     },
     "execution_count": 13,
     "metadata": {},
     "output_type": "execute_result"
    }
   ],
   "source": [
    "df.head()"
   ]
  },
  {
   "cell_type": "code",
   "execution_count": 14,
   "metadata": {},
   "outputs": [],
   "source": [
    "conditions = (\n",
    "    (df['AS1_PDLP'] == 2) | \n",
    "    (df['AS1_DRUGSLCU'] == 2) | \n",
    "    (df['AS1_TCHL_TR'] >= 240) | \n",
    "    (df['AS1_LDL_TR'] >= 160) |\n",
    "    (df['AS1_TG_TR'] >= 200) |\n",
    "    (df['AS1_HDL_TR']) < 40\n",
    ")\n",
    "\n",
    "processed_df['HAS_HYPERLIPIDEMI'] = conditions.astype(int)\n"
   ]
  },
  {
   "cell_type": "code",
   "execution_count": 15,
   "metadata": {},
   "outputs": [
    {
     "data": {
      "text/plain": [
       "HAS_HYPERLIPIDEMI\n",
       "1    10030\n",
       "Name: count, dtype: int64"
      ]
     },
     "execution_count": 15,
     "metadata": {},
     "output_type": "execute_result"
    }
   ],
   "source": [
    "processed_df['HAS_HYPERLIPIDEMI'].value_counts()"
   ]
  },
  {
   "cell_type": "markdown",
   "metadata": {},
   "source": [
    "#### HOMA_IR, 허리둘레, BMI\n",
    "> HOMA_IR=fasting glucose (mg/dL) X fasting insulin (mU/L) / 405\n",
    "\n",
    "- AS1_Glu0_TR: mg/dL\n",
    "- AS1_Ins0: µIU/㎖\n",
    "\n",
    "- AS1_INS0 µIU/㎖ == uU/mL == mU/L\n",
    "    - µ == u // 일부 이렇게 표시하는 사람 있음\n",
    "    - IU == U // 같은 거임\n",
    "    - 둘은 같다. 근거: https://www.quora.com/Any-one-can-help-how-I-can-convert-between-uU-ml-to-mcunit-ml-for-insulin-measuring-to-use-it-in-HOMA-IR-calculation"
   ]
  },
  {
   "cell_type": "code",
   "execution_count": 20,
   "metadata": {},
   "outputs": [],
   "source": [
    "# HOMA-IR\n",
    "processed_df['HOMA_IR'] = (AS1_18_BIOCHEM['AS1_GLU0_TR'] * AS1_18_BIOCHEM['AS1_INS0']) / 405"
   ]
  },
  {
   "cell_type": "code",
   "execution_count": 42,
   "metadata": {},
   "outputs": [
    {
     "name": "stdout",
     "output_type": "stream",
     "text": [
      "299\n",
      "296\n"
     ]
    }
   ],
   "source": [
    "pd.options.display.max_rows = None\n",
    "print(len(df[AS1_18_BIOCHEM['AS1_GLU0_TR'] == 99999]))\n",
    "print(len(df[AS1_18_BIOCHEM['AS1_INS0'] == 99999]))"
   ]
  },
  {
   "cell_type": "code",
   "execution_count": 29,
   "metadata": {},
   "outputs": [],
   "source": [
    "# 허리둘레\n",
    "\n",
    "processed_df['WAIST_AVG'] = AS1_19_ANTHRO[['AS1_WAIST1', 'AS1_WAIST2', 'AS1_WAIST3']].mean(axis=1)"
   ]
  },
  {
   "cell_type": "code",
   "execution_count": 30,
   "metadata": {},
   "outputs": [],
   "source": [
    "# BMI\n",
    "\n",
    "processed_df['BMI'] = ((AS1_19_ANTHRO['AS1_HEIGHT'] / 100) ** 2) * AS1_19_ANTHRO['AS1_WEIGHT']"
   ]
  },
  {
   "cell_type": "code",
   "execution_count": 31,
   "metadata": {},
   "outputs": [
    {
     "data": {
      "text/plain": [
       "count    1.003000e+04\n",
       "mean     7.286664e+05\n",
       "std      4.178770e+06\n",
       "min      1.654321e-02\n",
       "25%      1.057778e+00\n",
       "50%      1.478025e+00\n",
       "75%      2.110370e+00\n",
       "max      2.469086e+07\n",
       "Name: HOMA_IR, dtype: float64"
      ]
     },
     "execution_count": 31,
     "metadata": {},
     "output_type": "execute_result"
    }
   ],
   "source": [
    "processed_df['HOMA_IR'].describe()"
   ]
  },
  {
   "cell_type": "code",
   "execution_count": null,
   "metadata": {},
   "outputs": [],
   "source": []
  },
  {
   "cell_type": "markdown",
   "metadata": {},
   "source": []
  }
 ],
 "metadata": {
  "kernelspec": {
   "display_name": "Python 3",
   "language": "python",
   "name": "python3"
  },
  "language_info": {
   "codemirror_mode": {
    "name": "ipython",
    "version": 3
   },
   "file_extension": ".py",
   "mimetype": "text/x-python",
   "name": "python",
   "nbconvert_exporter": "python",
   "pygments_lexer": "ipython3",
   "version": "3.11.8"
  }
 },
 "nbformat": 4,
 "nbformat_minor": 2
}
